{
 "cells": [
  {
   "cell_type": "code",
   "execution_count": null,
   "metadata": {},
   "outputs": [],
   "source": [
    "import tensorflow as tf\n",
    "import numpy as np"
   ]
  },
  {
   "cell_type": "code",
   "execution_count": null,
   "metadata": {},
   "outputs": [],
   "source": [
    "#hyperparameter'leri tanımlıyoruz.\n",
    "#time-step gibi.\n",
    "max_len = 20\n",
    "step = 1\n",
    "num_units = 256\n",
    "learning_rate = 0.001\n",
    "batch_size = 128\n",
    "epoch = 50\n",
    "temperature = 0.5"
   ]
  },
  {
   "cell_type": "code",
   "execution_count": null,
   "metadata": {},
   "outputs": [],
   "source": [
    "def read_data(file_name):\n",
    "    '''\n",
    "     open and read text file\n",
    "    '''\n",
    "    text = open(file_name, 'r').read()\n",
    "    return text.lower()\n"
   ]
  },
  {
   "cell_type": "code",
   "execution_count": null,
   "metadata": {},
   "outputs": [],
   "source": [
    "def making_one_hot(text):\n",
    "    '''\n",
    "     one_hot hale getiriyoruz.\n",
    "    '''\n",
    "    #unique character sayısını buluyoruz.\n",
    "    unique_chars = list(set(text))\n",
    "    len_unique_chars = len(unique_chars)\n",
    "\n",
    "    input_chars = []\n",
    "    output_char = []\n",
    "    #ilk 20 character(0:20) input, 21. character(20) output.  veya da (10500:10520) input, 10520 output.\n",
    "    for i in range(0, len(text) - max_len, step):\n",
    "        input_chars.append(text[i:i+max_len])\n",
    "        output_char.append(text[i+max_len])\n",
    "    #shape'i (len(input_chars), max_len, len_unique_chars) olan ve 0'lardan oluşan 3 boyutlu bir matrix oluşturuyoruz.\n",
    "    train_data = np.zeros((len(input_chars), max_len, len_unique_chars))\n",
    "    #shape'i (len(input_chars), len_unique_chars) olan ve 0'lardan oluşan 2 boyutlu bir matrix oluşturuyoruz\n",
    "    target_data = np.zeros((len(input_chars), len_unique_chars))\n",
    "    #one-hot formatına çeviriyoruz.\n",
    "    for i , each in enumerate(input_chars):\n",
    "        for j, char in enumerate(each):\n",
    "            train_data[i, j, unique_chars.index(char)] = 1\n",
    "        target_data[i, unique_chars.index(output_char[i])] = 1\n",
    "    return train_data, target_data, unique_chars, len_unique_chars"
   ]
  },
  {
   "cell_type": "code",
   "execution_count": null,
   "metadata": {},
   "outputs": [],
   "source": [
    "def rnn(x, weight, bias, len_unique_chars):\n",
    "    '''\n",
    "     uygun bir formata getiriyoruz.\n",
    "    '''\n",
    "    x = tf.transpose(x, [1, 0, 2])\n",
    "    x = tf.reshape(x, [-1, len_unique_chars])\n",
    "    x = tf.split(x, max_len, 0)\n",
    "    #graph eşitliklerini yazıyoruz\n",
    "    cell = tf.contrib.rnn.BasicLSTMCell(num_units, forget_bias=1.0)\n",
    "    outputs, states = tf.contrib.rnn.static_rnn(cell, x, dtype=tf.float32)\n",
    "    prediction = tf.matmul(outputs[-1], weight) + bias\n",
    "    return prediction\n"
   ]
  },
  {
   "cell_type": "code",
   "execution_count": null,
   "metadata": {},
   "outputs": [],
   "source": [
    "def sample(predicted):\n",
    "    '''\n",
    "     hangi harfin döneceğini softmax'a benzer bir şekilde probabilistic hale getiriyoruz.\n",
    "    '''\n",
    "    exp_predicted = np.exp(predicted/temperature)\n",
    "    predicted = exp_predicted / np.sum(exp_predicted)\n",
    "    probabilities = np.random.multinomial(1, predicted, 1)\n",
    "    return probabilities\n"
   ]
  },
  {
   "cell_type": "code",
   "execution_count": null,
   "metadata": {},
   "outputs": [],
   "source": [
    "def run(train_data, target_data, unique_chars, len_unique_chars):\n",
    "    '''\n",
    "     placeholder'larımızı oluşturuyoruz.\n",
    "    '''\n",
    "    x = tf.placeholder(\"float\", [None, max_len, len_unique_chars])\n",
    "    y = tf.placeholder(\"float\", [None, len_unique_chars])\n",
    "    #Variable weight'lerini oluşturuyoruz.\n",
    "    weight = tf.Variable(tf.random_normal([num_units, len_unique_chars]))\n",
    "    bias = tf.Variable(tf.random_normal([len_unique_chars]))\n",
    "\n",
    "    prediction = rnn(x, weight, bias, len_unique_chars)\n",
    "    softmax = tf.nn.softmax_cross_entropy_with_logits(logits=prediction, labels=y)\n",
    "    cost = tf.reduce_mean(softmax)\n",
    "    optimizer = tf.train.RMSPropOptimizer(learning_rate=learning_rate).minimize(cost)\n",
    "    #tüm variable'ları initialize ediyoruz.\n",
    "    init_op = tf.global_variables_initializer()\n",
    "    #session'ımızı oluşturuyoruz\n",
    "    sess = tf.Session()\n",
    "    #variable'ları başlatıyoruz\n",
    "    sess.run(init_op)\n",
    "    #yukarıda belirlediğimiz batch size'a göre kaç tane batch olacağını hesaplıyoruz.\n",
    "    num_batches = int(len(train_data)/batch_size)\n",
    "    #aşagıdaki for loop kaç epoch kaçıştıracağımızı söylüyor\n",
    "    for i in range(epoch):\n",
    "        print(\"--- Epoch {0}/{1} ---\".format(i+1, epoch))\n",
    "        count = 0\n",
    "        #aşağıdaki for loop, batch'lerin çalıştırılmasını ifade ediyor.\n",
    "        for _ in range(num_batches):\n",
    "            train_batch, target_batch = train_data[count:count+batch_size], target_data[count:count+batch_size]\n",
    "            count += batch_size\n",
    "            sess.run([optimizer] ,feed_dict={x:train_batch, y:target_batch})\n",
    "\n",
    "        #get on of training set as seed\n",
    "        seed = train_batch[:1:]\n",
    "\n",
    "        #to print the seed 40 characters\n",
    "        seed_chars = ''\n",
    "        for each in seed[0]:\n",
    "                seed_chars += unique_chars[np.where(each == max(each))[0][0]]\n",
    "        print(\"Seed:\", seed_chars)\n",
    "\n",
    "        #trainingimize göre 3000 tane character tahmin ediyoruz.\n",
    "        for i in range(3000):\n",
    "            if i > 0:\n",
    "                remove_fist_char = seed[:,1:,:]\n",
    "                seed = np.append(remove_fist_char, np.reshape(probabilities, [1, 1, len_unique_chars]), axis=1)\n",
    "            predicted = sess.run([prediction], feed_dict = {x:seed})\n",
    "            predicted = np.asarray(predicted[0]).astype('float64')[0]\n",
    "            probabilities = sample(predicted)\n",
    "            predicted_chars = unique_chars[np.argmax(probabilities)]\n",
    "            seed_chars += predicted_chars\n",
    "        print('Result:', seed_chars)\n",
    "    sess.close()"
   ]
  },
  {
   "cell_type": "code",
   "execution_count": null,
   "metadata": {},
   "outputs": [],
   "source": [
    "%%time\n",
    "if __name__ == \"__main__\":\n",
    "    #http://www.glozman.com/TextPages/Harry%20Potter%201%20-%20Sorcerer's%20Stone.txt\n",
    "    text = read_data('hp_text.txt')\n",
    "    train_data, target_data, unique_chars, len_unique_chars = making_one_hot(text)\n",
    "    run(train_data, target_data, unique_chars, len_unique_chars)"
   ]
  },
  {
   "cell_type": "code",
   "execution_count": null,
   "metadata": {},
   "outputs": [],
   "source": []
  },
  {
   "cell_type": "code",
   "execution_count": null,
   "metadata": {},
   "outputs": [],
   "source": []
  }
 ],
 "metadata": {
  "kernelspec": {
   "display_name": "Python 3",
   "language": "python",
   "name": "python3"
  },
  "language_info": {
   "codemirror_mode": {
    "name": "ipython",
    "version": 3
   },
   "file_extension": ".py",
   "mimetype": "text/x-python",
   "name": "python",
   "nbconvert_exporter": "python",
   "pygments_lexer": "ipython3",
   "version": "3.6.4"
  }
 },
 "nbformat": 4,
 "nbformat_minor": 2
}
